{
  "cells": [
    {
      "cell_type": "code",
      "execution_count": 1,
      "metadata": {
        "colab": {
          "base_uri": "https://localhost:8080/"
        },
        "id": "wbvMlHd_QwMG",
        "outputId": "0f9ee467-cea4-48e8-9050-7a76ae1b6141"
      },
      "outputs": [
        {
          "name": "stderr",
          "output_type": "stream",
          "text": [
            "YOLOv5 🚀 9c3e939 Python-3.8.13 torch-1.11.0+cu102 CUDA:0 (NVIDIA GeForce RTX 2080 Ti, 11020MiB)\n"
          ]
        },
        {
          "name": "stdout",
          "output_type": "stream",
          "text": [
            "Setup complete ✅ (16 CPUs, 31.0 GB RAM, 374.9/900.0 GB disk)\n"
          ]
        }
      ],
      "source": [
        "!git clone https://github.com/ultralytics/yolov5  # clone\n",
        "%cd yolov5\n",
        "%pip install -qr requirements.txt  # install\n",
        "\n",
        "import torch\n",
        "import utils\n",
        "display = utils.notebook_init()  # checks"
      ]
    },
    {
      "cell_type": "code",
      "execution_count": 3,
      "metadata": {
        "colab": {
          "base_uri": "https://localhost:8080/"
        },
        "id": "zR9ZbuQCH7FX",
        "outputId": "60647b99-e8d4-402c-f444-331bf6746da4"
      },
      "outputs": [],
      "source": [
        "cur_model_name = 'YOLOv5_Car/yolov5m_relu6'\n",
        "cur_model = f'/home/umit/models/{cur_model_name}/weights/best.pt'\n",
        "cur_img_dir = '/home/umit/git/image_models/dataset_51/datasets/OIDv6/validation/data'\n",
        "cur_project = f'/home/umit/expt/SD-680/{cur_model_name}'\n",
        "#!python detect.py --weights {cur_model} --img 640 --conf 0.25 --source {cur_img_dir} --project {cur_project} --save-txt --save-conf --save-crop --hide-label"
      ]
    },
    {
      "cell_type": "code",
      "execution_count": 4,
      "metadata": {},
      "outputs": [
        {
          "name": "stdout",
          "output_type": "stream",
          "text": [
            "python detect.py --weights /home/umit/models/YOLOv5_Car/yolov5m_relu6/weights/best.pt --img 640 --conf 0.25 --source /home/umit/git/image_models/dataset_51/datasets/OIDv6/train/data --project /home/umit/expt/SD-680/YOLOv5_Car/yolov5m_relu6/train --save-txt --save-conf --save-crop\n"
          ]
        }
      ],
      "source": [
        "cur_set = 'train'\n",
        "cur_img_dir = f'/home/umit/git/image_models/dataset_51/datasets/OIDv6/{cur_set}/data'\n",
        "cur_project = f'/home/umit/expt/SD-680/{cur_model_name}/{cur_set}'\n",
        "cmd = f'python detect.py --weights {cur_model} --img 640 --conf 0.25 --source {cur_img_dir} --project {cur_project} --save-txt --save-conf --save-crop'\n",
        "print(cmd)"
      ]
    },
    {
      "cell_type": "code",
      "execution_count": 12,
      "metadata": {},
      "outputs": [
        {
          "name": "stdout",
          "output_type": "stream",
          "text": [
            "python detect.py --weights /home/umit/models/YOLOv5_LP/yolov5m_relu6/weights/best.pt --img 640 --conf 0.25 --source /home/umit/git/image_models/dataset_51/exported_dataset/Car-Vehicle_registration_plate-/images/validation --project /home/umit/expt/SD-680/YOLOv5_LP/yolov5m_relu6/validation --save-txt --save-conf --save-crop\n"
          ]
        }
      ],
      "source": [
        "cur_model_name = 'YOLOv5_LP/yolov5m_relu6'\n",
        "cur_model = f'/home/umit/models/{cur_model_name}/weights/best.pt'\n",
        "cur_img_dir = '/home/umit/git/image_models/dataset_51/exported_dataset/Car-Vehicle_registration_plate-/images/validation'\n",
        "cur_project = f'/home/umit/expt/SD-680/{cur_model_name}/validation'\n",
        "cmd = f'python detect.py --weights {cur_model} --img 640 --conf 0.25 --source {cur_img_dir} --project {cur_project} --save-txt --save-conf --save-crop'\n",
        "print(cmd)"
      ]
    },
    {
      "cell_type": "code",
      "execution_count": 14,
      "metadata": {},
      "outputs": [
        {
          "name": "stdout",
          "output_type": "stream",
          "text": [
            "python detect.py --weights /home/umit/models/YOLOv5_LP/yolov5m_relu6/weights/best.pt --img 640 --conf 0.25 --source /home/umit/git/image_models/dataset_51/exported_dataset/Car-Vehicle_registration_plate-/images/train --project /home/umit/expt/SD-680/YOLOv5_LP/yolov5m_relu6/train --save-txt --save-conf --save-crop\n"
          ]
        }
      ],
      "source": [
        "cur_set = 'train'\n",
        "cur_img_dir = f'/home/umit/git/image_models/dataset_51/exported_dataset/Car-Vehicle_registration_plate-/images/train'\n",
        "cur_project = f'/home/umit/expt/SD-680/{cur_model_name}/{cur_set}'\n",
        "cmd = f'python detect.py --weights {cur_model} --img 640 --conf 0.25 --source {cur_img_dir} --project {cur_project} --save-txt --save-conf --save-crop' # --hide-labels'\n",
        "print(cmd)\n"
      ]
    },
    {
      "cell_type": "code",
      "execution_count": 6,
      "metadata": {},
      "outputs": [
        {
          "data": {
            "text/plain": [
              "Text(0.5, 1.0, 'LP Confidences')"
            ]
          },
          "execution_count": 6,
          "metadata": {},
          "output_type": "execute_result"
        },
        {
          "data": {
            "image/png": "[encoded data removed]",
            "text/plain": [
              "<Figure size 432x288 with 1 Axes>"
            ]
          },
          "metadata": {
            "needs_background": "light"
          },
          "output_type": "display_data"
        }
      ],
      "source": [
        "import numpy as np\n",
        "from matplotlib import pyplot as plt\n",
        "# collect all confidences\n",
        "#cat /home/umit/expt/SD-680/YOLOv5_LP/yolov5m_relu6/train/exp2/labels/*.txt | awk '{print $6}' > /home/umit/expt/SD-680/YOLOv5_LP/yolov5m_relu6/train/exp2/labels/all.conf\n",
        "# load them\n",
        "train_conf = np.loadtxt('/home/umit/expt/SD-680/YOLOv5_LP/yolov5m_relu6/train/exp2/labels/all.conf')\n",
        "plt.hist(train_conf, 100)\n",
        "plt.grid()\n",
        "plt.title('LP Confidences')"
      ]
    },
    {
      "cell_type": "code",
      "execution_count": 10,
      "metadata": {},
      "outputs": [
        {
          "data": {
            "text/plain": [
              "Text(0.5, 1.0, 'Car Confidences')"
            ]
          },
          "execution_count": 10,
          "metadata": {},
          "output_type": "execute_result"
        },
        {
          "data": {
            "image/png": "[encoded data removed]",
            "text/plain": [
              "<Figure size 432x288 with 1 Axes>"
            ]
          },
          "metadata": {
            "needs_background": "light"
          },
          "output_type": "display_data"
        }
      ],
      "source": [
        "train_conf = np.loadtxt('/home/umit/expt/SD-680/YOLOv5_Car/yolov5m_relu6/train/exp/labels/all.conf')\n",
        "plt.hist(train_conf, 100)\n",
        "plt.grid()\n",
        "plt.title('Car Confidences')"
      ]
    },
    {
      "cell_type": "markdown",
      "metadata": {},
      "source": [
        "# Merge all detections to create a new set of labels"
      ]
    },
    {
      "cell_type": "code",
      "execution_count": 32,
      "metadata": {},
      "outputs": [
        {
          "name": "stdout",
          "output_type": "stream",
          "text": [
            "/home/umit/expt/SD-680/CAR_LP_merged/train/954eff13d5115067.txt\n"
          ]
        }
      ],
      "source": [
        "import os, glob\n",
        "set_name = 'train'\n",
        "ref_img_dir = f'/home/umit/git/image_models/dataset_51/exported_dataset/Car-Vehicle_registration_plate-/images/{set_name}'\n",
        "car_model_name = 'YOLOv5_Car/yolov5m_relu6'\n",
        "lp_model_name = 'YOLOv5_LP/yolov5m_relu6'\n",
        "lp_predictions = f'/home/umit/expt/SD-680/{lp_model_name}/{set_name}/exp/labels'\n",
        "car_predictions = f'/home/umit/expt/SD-680/{car_model_name}/{set_name}/exp/labels'\n",
        "merged_predictions = f'/home/umit/expt/SD-680/CAR_LP_merged/{set_name}'\n",
        "if not os.path.isdir(merged_predictions):\n",
        "    os.makedirs(merged_predictions)\n",
        "\n",
        "img_files = glob.glob(f'{ref_img_dir}/*.jpg')\n",
        "\n",
        "for img_file in img_files:\n",
        "    image_name = os.path.splitext(os.path.basename(img_file))[0]    \n",
        "    lp_pred_file = os.path.join(lp_predictions,image_name+'.txt')\n",
        "    car_pred_file = os.path.join(car_predictions,image_name+'.txt')\n",
        "    merged_pred_file = os.path.join(merged_predictions,image_name+'.txt') \n",
        "    # car is class 0, lp is class 1\n",
        "    with open(merged_pred_file, 'w') as outfile:\n",
        "        print(merged_pred_file)\n",
        "        if os.path.isfile(car_pred_file):\n",
        "            with open(car_pred_file) as infile:\n",
        "                outfile.write(infile.read())\n",
        "        if os.path.isfile(lp_pred_file):\n",
        "            with open(lp_pred_file) as infile:\n",
        "                for line in infile.readlines():\n",
        "                    aug_line = ['1'] + line.split()[1:]\n",
        "                    #aug_line = ' '.join(['1'.append(line.split()[1:]])\n",
        "                    outfile.write(' '.join(aug_line)+'\\n')\n",
        "                \n",
        "        "
      ]
    },
    {
      "cell_type": "markdown",
      "metadata": {},
      "source": [
        "# Merge existing transcriptions with LP detections\n"
      ]
    },
    {
      "cell_type": "code",
      "execution_count": 1,
      "metadata": {},
      "outputs": [
        {
          "ename": "SyntaxError",
          "evalue": "invalid syntax (3836085289.py, line 11)",
          "output_type": "error",
          "traceback": [
            "\u001b[0;36m  Input \u001b[0;32mIn [1]\u001b[0;36m\u001b[0m\n\u001b[0;31m    dataset_type = fo.types.  # for example\u001b[0m\n\u001b[0m                              ^\u001b[0m\n\u001b[0;31mSyntaxError\u001b[0m\u001b[0;31m:\u001b[0m invalid syntax\n"
          ]
        }
      ],
      "source": [
        "# For any LP detection with > 0.5 confidence, we will add this to the labels and then do NMS on them.\n",
        "import fiftyone as fo\n",
        "\n",
        "# A name for the dataset\n",
        "name = \"my-dataset\"\n",
        "\n",
        "# The directory containing the dataset to import\n",
        "dataset_dir = \"/path/to/dataset\"\n",
        "\n",
        "# The type of the dataset being imported\n",
        "dataset_type = fo.types.  # for example\n",
        "\n",
        "dataset = fo.Dataset.from_dir(\n",
        "    dataset_dir=dataset_dir,\n",
        "    dataset_type=dataset_type,\n",
        "    name=name,\n",
        ")"
      ]
    },
    {
      "cell_type": "code",
      "execution_count": null,
      "metadata": {},
      "outputs": [],
      "source": [
        "import torch\n",
        "from torchvision.ops import nms\n",
        "\n",
        "\n",
        "boxes = torch.tensor([[190,380,(190+300),(380+150)],\n",
        "                      [300,420,(300+150),(420+210)],\n",
        "                      [320,360,(320+200),(360+230)],\n",
        "\n",
        "                      [390,50,(390+300),(50+330)],\n",
        "                      [490,45,(490+200),(45+500)],\n",
        "                      [480,130,(480+150),(130+400)]], dtype=torch.float32)\n",
        "\n",
        "scores = torch.tensor([[0.90],[0.98],[0.82], [0.87],[0.98],[0.82]], dtype=torch.float32)\n",
        "\n",
        "nms(boxes = boxes, scores = scores, iou_threshold=0.2)"
      ]
    },
    {
      "cell_type": "code",
      "execution_count": null,
      "metadata": {},
      "outputs": [],
      "source": [
        "image = plt.imread('index.jpg')\n",
        "\n",
        "# draw emtpy figure\n",
        "fig = plt.figure()\n",
        "\n",
        "# define axis\n",
        "ax = fig.add_axes([0, 0, 1, 1])\n",
        "\n",
        "# plot image\n",
        "plt.imshow(image)\n",
        "      \n",
        "# create rectangular patch\n",
        "#dog\n",
        "rect_0 = patches.Rectangle((190, 380), 300, 150, edgecolor='red', facecolor='none', linewidth=2)\n",
        "rect_1 = patches.Rectangle((300, 420), 150, 210, edgecolor='green', facecolor='none', linewidth=2)\n",
        "rect_2 = patches.Rectangle((320, 360), 200, 230, edgecolor='blue', facecolor='none', linewidth=2)\n",
        "\n",
        "#person\n",
        "rect_3 = patches.Rectangle((390, 50), 300, 330, edgecolor='red', facecolor='none', linewidth=2)\n",
        "rect_4 = patches.Rectangle((490, 45), 200, 500, edgecolor='green', facecolor='none', linewidth=2)\n",
        "rect_5 = patches.Rectangle((480, 130),150,400, edgecolor='blue', facecolor='none', linewidth=2)"
      ]
    },
    {
      "cell_type": "code",
      "execution_count": 12,
      "metadata": {},
      "outputs": [],
      "source": [
        "def yolo_to_pascal_voc(x_center, y_center, w, h,  image_w, image_h):\n",
        "    w = w * image_w\n",
        "    h = h * image_h\n",
        "    x1 = ((2 * x_center * image_w) - w)/2\n",
        "    y1 = ((2 * y_center * image_h) - h)/2\n",
        "    x2 = x1 + w\n",
        "    y2 = y1 + h\n",
        "    return [x1, y1, x2, y2]"
      ]
    },
    {
      "cell_type": "code",
      "execution_count": 2,
      "metadata": {},
      "outputs": [],
      "source": [
        "import cv2, random, os\n",
        "def plot_one_box(x, image, color=None, label=None, line_thickness=None):\n",
        "    # Plots one bounding box on image img\n",
        "    tl = line_thickness or round(0.002 * (image.shape[0] + image.shape[1]) / 2) + 1  # line/font thickness\n",
        "    color = color or [random.randint(0, 255) for _ in range(3)]\n",
        "    c1, c2 = (int(x[0]), int(x[1])), (int(x[2]), int(x[3]))\n",
        "    cv2.rectangle(image, c1, c2, color, thickness=tl, lineType=cv2.LINE_AA)\n",
        "    if label:\n",
        "        tf = max(tl - 1, 1)  # font thickness\n",
        "        t_size = cv2.getTextSize(label, 0, fontScale=tl / 3, thickness=tf)[0]\n",
        "        c2 = c1[0] + t_size[0], c1[1] - t_size[1] - 3\n",
        "        cv2.rectangle(image, c1, c2, color, -1, cv2.LINE_AA)  # filled\n",
        "        cv2.putText(image, label, (c1[0], c1[1] - 2), 0, tl / 3, [225, 255, 255], thickness=tf, lineType=cv2.LINE_AA)\n",
        "\n",
        "def draw_box_on_image(image_name, classes, colors, label_folder, raw_images_folder):\n",
        "    txt_path  = os.path.join(label_folder,'%s.txt'%(image_name))  #本次检测结果txt路径\n",
        "    if image_name == '.DS_Store':\n",
        "        return 0\n",
        "    image_path = os.path.join( raw_images_folder,'%s.jpg'%(image_name))  #本次原始图片jpg路径\n",
        "    \n",
        "    #save_file_path = os.path.join(save_images_folder,'%s.jpg'%(image_name)) #本次保存图片jpg路径\n",
        "    \n",
        "    # flag_people_or_car_data = 0  #变量 代表类别\n",
        "    source_file = open(txt_path)\n",
        "    image = cv2.imread(image_path)\n",
        "    try:\n",
        "        height, width, channels = image.shape\n",
        "    except:\n",
        "        print('no shape info.')\n",
        "        return 0\n",
        "\n",
        "    for line in source_file: #例遍 txt文件得每一行\n",
        "        staff = line.split() #对每行内容 通过以空格为分隔符对字符串进行切片\n",
        "        class_idx = int(staff[0])\n",
        "\n",
        "        x_center, y_center, w, h = float(staff[1])*width, float(staff[2])*height, float(staff[3])*width, float(staff[4])*height\n",
        "        x1 = round(x_center-w/2)\n",
        "        y1 = round(y_center-h/2)\n",
        "        x2 = round(x_center+w/2)\n",
        "        y2 = round(y_center+h/2)  \n",
        "        cur_label =   classes[class_idx] \n",
        "        if len(staff)>5:\n",
        "            cur_label = classes[class_idx]+'-%.2f'%float(staff[5])\n",
        "        plot_one_box([x1,y1,x2,y2], image, color=colors[class_idx], label=cur_label, line_thickness=None)\n",
        "\n",
        "        #cv2.imwrite(save_file_path,image) \n",
        "\n",
        "    return image\n"
      ]
    },
    {
      "cell_type": "code",
      "execution_count": null,
      "metadata": {},
      "outputs": [],
      "source": [
        "import glob, os\n",
        "import matplotlib.pyplot as plt\n",
        "plt.ion()\n",
        "%matplotlib inline\n",
        "from time import sleep\n",
        "classes = ['CAR','LP']\n",
        "colors = [[random.randint(0, 255) for _ in range(3)] for _ in range(len(classes))]\n",
        "cur_img_dir = '/home/umit/git/image_models/dataset_51/exported_dataset/Car-Vehicle_registration_plate-/images/train'\n",
        "cur_lbl_dir = '/home/umit/git/image_models/dataset_51/exported_dataset/Car-Vehicle_registration_plate-/labels/train'\n",
        "car_det_dir = '/home/umit/expt/SD-680/YOLOv5_Car/yolov5m_relu6/train/exp/labels'\n",
        "lp_det_dir = '/home/umit/expt/SD-680/YOLOv5_LP/yolov5m_relu6/train/exp2/labels'\n",
        "all_files = glob.glob(f'{cur_img_dir}/*.jpg')\n",
        "fig = plt.figure(figsize=(20,20))\n",
        "ax1 = fig.add_subplot(121)\n",
        "ax2 = fig.add_subplot(122)\n",
        "axim1 = ax1.imshow([0,0,0])\n",
        "axim2 = ax2.imshow([0,0,0])\n",
        "for file in all_files[:250]:\n",
        "    image_name = os.path.splitext(os.path.basename(file))[0]\n",
        "    im1 = draw_box_on_image(image_name, classes, colors, cur_lbl_dir, cur_img_dir)\n",
        "    #im_car, _ = draw_box_on_image(image_name, classes, colors, car_det_dir, cur_img_dir)\n",
        "    axim1.set_data(im1)\n",
        "\n",
        "    if os.path.isfile(f'{lp_det_dir}/{image_name}.txt'):\n",
        "        im_lp = draw_box_on_image(image_name, classes[1], colors[1], lp_det_dir, cur_img_dir)\n",
        "        #plt.figure(figsize=(10,10))\n",
        "        #ax2.imshow(im_lp)\n",
        "        axim2.set_data(im_lp)\n",
        "        #print(im1)\n",
        "    \n",
        "    plt.show()\n",
        "    fig.clear()\n",
        "    #ax1.clear()\n",
        "    #ax2.clear()\n",
        "    sleep(2.0)\n",
        "    #plt.pause(5.)\n",
        "    #plt.waitforbuttonpress(timeout=2)\n",
        "    #input(\"Enter\")\n",
        "    #plt.close()\n",
        "    "
      ]
    },
    {
      "cell_type": "code",
      "execution_count": 46,
      "metadata": {},
      "outputs": [
        {
          "ename": "error",
          "evalue": "OpenCV(4.6.0) :-1: error: (-5:Bad argument) in function 'rectangle'\n> Overload resolution failed:\n>  - Scalar value for argument 'color' is longer than 4\n>  - Scalar value for argument 'color' is longer than 4\n>  - argument for rectangle() given by name ('thickness') and position (4)\n>  - argument for rectangle() given by name ('thickness') and position (4)\n",
          "output_type": "error",
          "traceback": [
            "\u001b[0;31m---------------------------------------------------------------------------\u001b[0m",
            "\u001b[0;31merror\u001b[0m                                     Traceback (most recent call last)",
            "\u001b[1;32m/home/umit/git/image_models/yolov5-dg/car_lp_ds51.ipynb Cell 12\u001b[0m in \u001b[0;36m<cell line: 20>\u001b[0;34m()\u001b[0m\n\u001b[1;32m     <a href='vscode-notebook-cell://ssh-remote%2Bmehrdad_desktop_ts/home/umit/git/image_models/yolov5-dg/car_lp_ds51.ipynb#X12sdnNjb2RlLXJlbW90ZQ%3D%3D?line=41'>42</a>\u001b[0m         x2 \u001b[39m=\u001b[39m \u001b[39mround\u001b[39m(x_center\u001b[39m+\u001b[39mw\u001b[39m/\u001b[39m\u001b[39m2\u001b[39m)\n\u001b[1;32m     <a href='vscode-notebook-cell://ssh-remote%2Bmehrdad_desktop_ts/home/umit/git/image_models/yolov5-dg/car_lp_ds51.ipynb#X12sdnNjb2RlLXJlbW90ZQ%3D%3D?line=42'>43</a>\u001b[0m         y2 \u001b[39m=\u001b[39m \u001b[39mround\u001b[39m(y_center\u001b[39m+\u001b[39mh\u001b[39m/\u001b[39m\u001b[39m2\u001b[39m)     \n\u001b[0;32m---> <a href='vscode-notebook-cell://ssh-remote%2Bmehrdad_desktop_ts/home/umit/git/image_models/yolov5-dg/car_lp_ds51.ipynb#X12sdnNjb2RlLXJlbW90ZQ%3D%3D?line=44'>45</a>\u001b[0m         plot_one_box([x1,y1,x2,y2], image, color\u001b[39m=\u001b[39;49mcolors, label\u001b[39m=\u001b[39;49mclasses[class_idx], line_thickness\u001b[39m=\u001b[39;49m\u001b[39mNone\u001b[39;49;00m)\n\u001b[1;32m     <a href='vscode-notebook-cell://ssh-remote%2Bmehrdad_desktop_ts/home/umit/git/image_models/yolov5-dg/car_lp_ds51.ipynb#X12sdnNjb2RlLXJlbW90ZQ%3D%3D?line=45'>46</a>\u001b[0m plt\u001b[39m.\u001b[39mimshow(image)\n\u001b[1;32m     <a href='vscode-notebook-cell://ssh-remote%2Bmehrdad_desktop_ts/home/umit/git/image_models/yolov5-dg/car_lp_ds51.ipynb#X12sdnNjb2RlLXJlbW90ZQ%3D%3D?line=47'>48</a>\u001b[0m fig \u001b[39m=\u001b[39m plt\u001b[39m.\u001b[39msubplot(\u001b[39m122\u001b[39m)\n",
            "\u001b[1;32m/home/umit/git/image_models/yolov5-dg/car_lp_ds51.ipynb Cell 12\u001b[0m in \u001b[0;36mplot_one_box\u001b[0;34m(x, image, color, label, line_thickness)\u001b[0m\n\u001b[1;32m      <a href='vscode-notebook-cell://ssh-remote%2Bmehrdad_desktop_ts/home/umit/git/image_models/yolov5-dg/car_lp_ds51.ipynb#X12sdnNjb2RlLXJlbW90ZQ%3D%3D?line=4'>5</a>\u001b[0m color \u001b[39m=\u001b[39m color \u001b[39mor\u001b[39;00m [random\u001b[39m.\u001b[39mrandint(\u001b[39m0\u001b[39m, \u001b[39m255\u001b[39m) \u001b[39mfor\u001b[39;00m _ \u001b[39min\u001b[39;00m \u001b[39mrange\u001b[39m(\u001b[39m3\u001b[39m)]\n\u001b[1;32m      <a href='vscode-notebook-cell://ssh-remote%2Bmehrdad_desktop_ts/home/umit/git/image_models/yolov5-dg/car_lp_ds51.ipynb#X12sdnNjb2RlLXJlbW90ZQ%3D%3D?line=5'>6</a>\u001b[0m c1, c2 \u001b[39m=\u001b[39m (\u001b[39mint\u001b[39m(x[\u001b[39m0\u001b[39m]), \u001b[39mint\u001b[39m(x[\u001b[39m1\u001b[39m])), (\u001b[39mint\u001b[39m(x[\u001b[39m2\u001b[39m]), \u001b[39mint\u001b[39m(x[\u001b[39m3\u001b[39m]))\n\u001b[0;32m----> <a href='vscode-notebook-cell://ssh-remote%2Bmehrdad_desktop_ts/home/umit/git/image_models/yolov5-dg/car_lp_ds51.ipynb#X12sdnNjb2RlLXJlbW90ZQ%3D%3D?line=6'>7</a>\u001b[0m cv2\u001b[39m.\u001b[39;49mrectangle(image, c1, c2, color, thickness\u001b[39m=\u001b[39;49mtl, lineType\u001b[39m=\u001b[39;49mcv2\u001b[39m.\u001b[39;49mLINE_AA)\n\u001b[1;32m      <a href='vscode-notebook-cell://ssh-remote%2Bmehrdad_desktop_ts/home/umit/git/image_models/yolov5-dg/car_lp_ds51.ipynb#X12sdnNjb2RlLXJlbW90ZQ%3D%3D?line=7'>8</a>\u001b[0m \u001b[39mif\u001b[39;00m label:\n\u001b[1;32m      <a href='vscode-notebook-cell://ssh-remote%2Bmehrdad_desktop_ts/home/umit/git/image_models/yolov5-dg/car_lp_ds51.ipynb#X12sdnNjb2RlLXJlbW90ZQ%3D%3D?line=8'>9</a>\u001b[0m     tf \u001b[39m=\u001b[39m \u001b[39mmax\u001b[39m(tl \u001b[39m-\u001b[39m \u001b[39m1\u001b[39m, \u001b[39m1\u001b[39m)  \u001b[39m# font thickness\u001b[39;00m\n",
            "\u001b[0;31merror\u001b[0m: OpenCV(4.6.0) :-1: error: (-5:Bad argument) in function 'rectangle'\n> Overload resolution failed:\n>  - Scalar value for argument 'color' is longer than 4\n>  - Scalar value for argument 'color' is longer than 4\n>  - argument for rectangle() given by name ('thickness') and position (4)\n>  - argument for rectangle() given by name ('thickness') and position (4)\n"
          ]
        },
        {
          "data": {
            "image/png": "[encoded data removed]",
            "text/plain": [
              "<Figure size 432x288 with 1 Axes>"
            ]
          },
          "metadata": {
            "needs_background": "light"
          },
          "output_type": "display_data"
        }
      ],
      "source": [
        "# Now try to do merging with label files\n",
        "\n",
        "\n",
        "import matplotlib.patches as patches\n",
        "import glob, os\n",
        "import numpy as np\n",
        "from PIL import Image\n",
        "from utils.plots import Annotator\n",
        "\n",
        "\n",
        "classes = {0:'CAR',1:'LP'}\n",
        "colors = {0:0, 1:1}\n",
        "\n",
        "#colors = [random.randint(0, 255) for _ in range(len(segments))]\n",
        "line_thickness=4\n",
        "\n",
        "cur_img_dir = '/home/umit/git/image_models/dataset_51/exported_dataset/Car-Vehicle_registration_plate-/images/train'\n",
        "car_det_dir = '/home/umit/expt/SD-680/YOLOv5_Car/yolov5m_relu6/train/exp/labels'\n",
        "lp_det_dir = '/home/umit/expt/SD-680/YOLOv5_LP/yolov5m_relu6/train/exp2/labels'\n",
        "all_files = glob.glob(f'{cur_img_dir}/*.jpg')\n",
        "for file in all_files[3:10]:\n",
        "    image = plt.imread(file)\n",
        "    image_h, image_w, _ = image.shape\n",
        "\n",
        "    # draw emtpy figure\n",
        "    fig = plt.subplot(121)#figure()\n",
        "    # define axis\n",
        "    #ax = fig.add_axes([0, 0, 1, 1])\n",
        "    # plot image\n",
        "  \n",
        "    lbl_file = file.replace('images','labels').replace('.jpg','.txt')\n",
        "    lp_det_file = os.path.join(lp_det_dir,os.path.basename(lbl_file))\n",
        "    car_det_file = os.path.join(car_det_dir,os.path.basename(lbl_file))\n",
        "    with open(lbl_file) as file:\n",
        "        segments = [line.rstrip() for line in file]\n",
        "        colors = [random.randint(0, 255) for _ in range(len(segments))]\n",
        "        for segment in segments:\n",
        "            staff = segment.split()\n",
        "            class_idx = int(staff[0])\n",
        "            x_center, y_center, w, h = float(staff[1])*image_w, float(staff[2])*image_h, float(staff[3])*image_w, float(staff[4])*image_h\n",
        "            x1 = round(x_center-w/2)\n",
        "            y1 = round(y_center-h/2)\n",
        "            x2 = round(x_center+w/2)\n",
        "            y2 = round(y_center+h/2)     \n",
        "        \n",
        "            plot_one_box([x1,y1,x2,y2], image, color=colors, label=classes[class_idx], line_thickness=None)\n",
        "    plt.imshow(image)\n",
        "\n",
        "    fig = plt.subplot(122)\n",
        "    # define axis\n",
        "    #ax = fig.add_axes([0, 0, 1, 1])\n",
        "    with open(lp_det_file) as file:\n",
        "        segments = [line.rstrip() for line in file]\n",
        "        colors = [random.randint(0, 255) for _ in range(len(segments))]\n",
        "        for segment in segments:\n",
        "            staff = segment.split()\n",
        "            class_idx = int(staff[0])+1\n",
        "            conf_lbl = classes[class_idx]+'%.2f'%float(staff[-1])\n",
        "            x_center, y_center, w, h = float(staff[1])*image_w, float(staff[2])*image_h, float(staff[3])*image_w, float(staff[4])*image_h\n",
        "            x1 = round(x_center-w/2)\n",
        "            y1 = round(y_center-h/2)\n",
        "            x2 = round(x_center+w/2)\n",
        "            y2 = round(y_center+h/2)     \n",
        "        \n",
        "            plot_one_box([x1,y1,x2,y2], image, color=colors, label=conf_lbl, line_thickness=None)\n",
        "    with open(car_det_file) as file:\n",
        "        segments = [line.rstrip() for line in file]\n",
        "        colors = [random.randint(0, 255) for _ in range(len(segments))]\n",
        "        for segment in segments:\n",
        "            staff = segment.split()\n",
        "            class_idx = int(staff[0])\n",
        "            conf_lbl = classes[class_idx]+'%.2f'%float(staff[-1])\n",
        "            x_center, y_center, w, h = float(staff[1])*image_w, float(staff[2])*image_h, float(staff[3])*image_w, float(staff[4])*image_h\n",
        "            x1 = round(x_center-w/2)\n",
        "            y1 = round(y_center-h/2)\n",
        "            x2 = round(x_center+w/2)\n",
        "            y2 = round(y_center+h/2)     \n",
        "        \n",
        "            plot_one_box([x1,y1,x2,y2], image, color=colors, label=conf_lbl, line_thickness=None)\n",
        "\n",
        "        \n",
        "    plt.imshow(image)\n",
        "'''\n",
        "            [cur_class, x_center, y_center, width, height]=segment.split()\n",
        "            boxes = yolo_to_pascal_voc(float(x_center), float(y_center), float(width), float(height), image_w, image_h)\n",
        "            annotator.box_label(boxes, label=str(cur_class))\n",
        "    im0 = annotator.result()\n",
        "    plt.imshow(im0)\n",
        "    plt.show()\n",
        "    print(segments)\n",
        "    with open(det_file) as file:\n",
        "        det_segments = [line.rstrip() for line in file]\n",
        "    print(det_segments)\n",
        "    #input(\"Press Enter\")\n",
        "    '''\n",
        "\n",
        "    "
      ]
    },
    {
      "cell_type": "code",
      "execution_count": 3,
      "metadata": {
        "id": "FGH0ZjkGjejy"
      },
      "outputs": [
        {
          "ename": "SyntaxError",
          "evalue": "invalid syntax (3026153189.py, line 3)",
          "output_type": "error",
          "traceback": [
            "\u001b[0;36m  Input \u001b[0;32mIn [3]\u001b[0;36m\u001b[0m\n\u001b[0;31m    rm -rf runs  # remove runs/\u001b[0m\n\u001b[0m           ^\u001b[0m\n\u001b[0;31mSyntaxError\u001b[0m\u001b[0;31m:\u001b[0m invalid syntax\n"
          ]
        }
      ],
      "source": [
        "# YOLOv5 CI\n",
        "%%shell\n",
        "rm -rf runs  # remove runs/\n",
        "m=yolov5n  # official weights\n",
        "b=runs/train/exp/weights/best  # best.pt checkpoint\n",
        "python train.py --imgsz 64 --batch 32 --weights $m.pt --cfg $m.yaml --epochs 1 --device 0  # train\n",
        "for d in 0 cpu; do  # devices\n",
        "  for w in $m $b; do  # weights\n",
        "    python val.py --imgsz 64 --batch 32 --weights $w.pt --device $d  # val\n",
        "    python detect.py --imgsz 64 --weights $w.pt --device $d  # detect\n",
        "  done\n",
        "done\n",
        "python hubconf.py --model $m  # hub\n",
        "python models/tf.py --weights $m.pt  # build TF model\n",
        "python models/yolo.py --cfg $m.yaml  # build PyTorch model\n",
        "python export.py --weights $m.pt --img 64 --include torchscript  # export"
      ]
    },
    {
      "cell_type": "code",
      "execution_count": null,
      "metadata": {
        "id": "mcKoSIK2WSzj"
      },
      "outputs": [],
      "source": [
        "# Reproduce\n",
        "for x in (f'yolov5{x}' for x in 'nsmlx'):\n",
        "  !python val.py --weights {x}.pt --data coco.yaml --img 640 --task speed  # speed\n",
        "  !python val.py --weights {x}.pt --data coco.yaml --img 640 --conf 0.001 --iou 0.65  # mAP"
      ]
    },
    {
      "cell_type": "code",
      "execution_count": null,
      "metadata": {
        "id": "gogI-kwi3Tye"
      },
      "outputs": [],
      "source": [
        "# Profile\n",
        "from utils.torch_utils import profile\n",
        "\n",
        "m1 = lambda x: x * torch.sigmoid(x)\n",
        "m2 = torch.nn.SiLU()\n",
        "results = profile(input=torch.randn(16, 3, 640, 640), ops=[m1, m2], n=100)"
      ]
    },
    {
      "cell_type": "code",
      "execution_count": null,
      "metadata": {
        "id": "BSgFCAcMbk1R"
      },
      "outputs": [],
      "source": [
        "# VOC\n",
        "for b, m in zip([64, 64, 64, 32, 16], [f'yolov5{x}' for x in 'nsmlx']):  # batch, model\n",
        "  !python train.py --batch {b} --weights {m}.pt --data VOC.yaml --epochs 50 --img 512 --hyp hyp.VOC.yaml --project VOC --name {m} --cache"
      ]
    },
    {
      "cell_type": "code",
      "execution_count": null,
      "metadata": {
        "id": "UWGH7H6yakVl"
      },
      "outputs": [],
      "source": [
        "# Classification train\n",
        "for m in [*(f'yolov5{x}-cls.pt' for x in 'nsmlx'), 'resnet50.pt', 'resnet101.pt', 'efficientnet_b0.pt', 'efficientnet_b1.pt']:\n",
        "  for d in 'mnist', 'fashion-mnist', 'cifar10', 'cifar100', 'imagenette160', 'imagenette320', 'imagenette', 'imagewoof160', 'imagewoof320', 'imagewoof':\n",
        "    !python classify/train.py --model {m} --data {d} --epochs 10 --project YOLOv5-cls --name {m}-{d}"
      ]
    },
    {
      "cell_type": "code",
      "execution_count": null,
      "metadata": {
        "id": "yYgOiFNHZx-1"
      },
      "outputs": [],
      "source": [
        "# Classification val\n",
        "!bash data/scripts/get_imagenet.sh --val  # download ImageNet val split (6.3G - 50000 images)\n",
        "!python classify/val.py --weights yolov5m-cls.pt --data ../datasets/imagenet --img 224  # validate"
      ]
    },
    {
      "cell_type": "code",
      "execution_count": null,
      "metadata": {
        "id": "aq4DPWGu0Bl1"
      },
      "outputs": [],
      "source": [
        "# Validate on COCO test. Zip results.json and submit to eval server at https://competitions.codalab.org/competitions/20794\n",
        "!bash data/scripts/get_coco.sh --test  # download COCO test-dev2017 (7G - 40000 images, test 20000)\n",
        "!python val.py --weights yolov5x.pt --data coco.yaml --img 640 --iou 0.65 --half --task test"
      ]
    },
    {
      "cell_type": "code",
      "execution_count": null,
      "metadata": {
        "id": "VTRwsvA9u7ln"
      },
      "outputs": [],
      "source": [
        "# TensorRT \n",
        "!pip install -U nvidia-tensorrt --index-url https://pypi.ngc.nvidia.com  # install\n",
        "!python export.py --weights yolov5s.pt --include engine --imgsz 640 --device 0  # export\n",
        "!python detect.py --weights yolov5s.engine --imgsz 640 --device 0  # inference"
      ]
    }
  ],
  "metadata": {
    "accelerator": "GPU",
    "colab": {
      "collapsed_sections": [],
      "machine_shape": "hm",
      "name": "YOLOv5 Tutorial",
      "provenance": [],
      "toc_visible": true
    },
    "kernelspec": {
      "display_name": "Python 3.8.13 ('honk')",
      "language": "python",
      "name": "python3"
    },
    "language_info": {
      "codemirror_mode": {
        "name": "ipython",
        "version": 3
      },
      "file_extension": ".py",
      "mimetype": "text/x-python",
      "name": "python",
      "nbconvert_exporter": "python",
      "pygments_lexer": "ipython3",
      "version": "3.8.13"
    },
    "vscode": {
      "interpreter": {
        "hash": "15741134b8ddee0a711883ba84933d93251396c53ddbc5dddd85e39d42ad5fa7"
      }
    },
    "widgets": {
      "application/vnd.jupyter.widget-state+json": {
        "0856bea36ec148b68522ff9c9eb258d8": {
          "model_module": "@jupyter-widgets/controls",
          "model_module_version": "1.5.0",
          "model_name": "DescriptionStyleModel",
          "state": {
            "_model_module": "@jupyter-widgets/controls",
            "_model_module_version": "1.5.0",
            "_model_name": "DescriptionStyleModel",
            "_view_count": null,
            "_view_module": "@jupyter-widgets/base",
            "_view_module_version": "1.2.0",
            "_view_name": "StyleView",
            "description_width": ""
          }
        },
        "0ace3934ec6f4d36a1b3a9e086390926": {
          "model_module": "@jupyter-widgets/controls",
          "model_module_version": "1.5.0",
          "model_name": "ProgressStyleModel",
          "state": {
            "_model_module": "@jupyter-widgets/controls",
            "_model_module_version": "1.5.0",
            "_model_name": "ProgressStyleModel",
            "_view_count": null,
            "_view_module": "@jupyter-widgets/base",
            "_view_module_version": "1.2.0",
            "_view_name": "StyleView",
            "bar_color": null,
            "description_width": ""
          }
        },
        "35e03ce5090346c9ae602891470fc555": {
          "model_module": "@jupyter-widgets/controls",
          "model_module_version": "1.5.0",
          "model_name": "FloatProgressModel",
          "state": {
            "_dom_classes": [],
            "_model_module": "@jupyter-widgets/controls",
            "_model_module_version": "1.5.0",
            "_model_name": "FloatProgressModel",
            "_view_count": null,
            "_view_module": "@jupyter-widgets/controls",
            "_view_module_version": "1.5.0",
            "_view_name": "ProgressView",
            "bar_style": "success",
            "description": "",
            "description_tooltip": null,
            "layout": "IPY_MODEL_76879f6f2aa54637a7a07faeea2bd684",
            "max": 818322941,
            "min": 0,
            "orientation": "horizontal",
            "style": "IPY_MODEL_0ace3934ec6f4d36a1b3a9e086390926",
            "value": 818322941
          }
        },
        "574140e4c4bc48c9a171541a02cd0211": {
          "model_module": "@jupyter-widgets/controls",
          "model_module_version": "1.5.0",
          "model_name": "HTMLModel",
          "state": {
            "_dom_classes": [],
            "_model_module": "@jupyter-widgets/controls",
            "_model_module_version": "1.5.0",
            "_model_name": "HTMLModel",
            "_view_count": null,
            "_view_module": "@jupyter-widgets/controls",
            "_view_module_version": "1.5.0",
            "_view_name": "HTMLView",
            "description": "",
            "description_tooltip": null,
            "layout": "IPY_MODEL_60b913d755b34d638478e30705a2dde1",
            "placeholder": "​",
            "style": "IPY_MODEL_0856bea36ec148b68522ff9c9eb258d8",
            "value": "100%"
          }
        },
        "5966ba6e6f114d8c9d8d1d6b1bd4f4c7": {
          "model_module": "@jupyter-widgets/controls",
          "model_module_version": "1.5.0",
          "model_name": "DescriptionStyleModel",
          "state": {
            "_model_module": "@jupyter-widgets/controls",
            "_model_module_version": "1.5.0",
            "_model_name": "DescriptionStyleModel",
            "_view_count": null,
            "_view_module": "@jupyter-widgets/base",
            "_view_module_version": "1.2.0",
            "_view_name": "StyleView",
            "description_width": ""
          }
        },
        "60b913d755b34d638478e30705a2dde1": {
          "model_module": "@jupyter-widgets/base",
          "model_module_version": "1.2.0",
          "model_name": "LayoutModel",
          "state": {
            "_model_module": "@jupyter-widgets/base",
            "_model_module_version": "1.2.0",
            "_model_name": "LayoutModel",
            "_view_count": null,
            "_view_module": "@jupyter-widgets/base",
            "_view_module_version": "1.2.0",
            "_view_name": "LayoutView",
            "align_content": null,
            "align_items": null,
            "align_self": null,
            "border": null,
            "bottom": null,
            "display": null,
            "flex": null,
            "flex_flow": null,
            "grid_area": null,
            "grid_auto_columns": null,
            "grid_auto_flow": null,
            "grid_auto_rows": null,
            "grid_column": null,
            "grid_gap": null,
            "grid_row": null,
            "grid_template_areas": null,
            "grid_template_columns": null,
            "grid_template_rows": null,
            "height": null,
            "justify_content": null,
            "justify_items": null,
            "left": null,
            "margin": null,
            "max_height": null,
            "max_width": null,
            "min_height": null,
            "min_width": null,
            "object_fit": null,
            "object_position": null,
            "order": null,
            "overflow": null,
            "overflow_x": null,
            "overflow_y": null,
            "padding": null,
            "right": null,
            "top": null,
            "visibility": null,
            "width": null
          }
        },
        "65881db1db8a4e9c930fab9172d45143": {
          "model_module": "@jupyter-widgets/base",
          "model_module_version": "1.2.0",
          "model_name": "LayoutModel",
          "state": {
            "_model_module": "@jupyter-widgets/base",
            "_model_module_version": "1.2.0",
            "_model_name": "LayoutModel",
            "_view_count": null,
            "_view_module": "@jupyter-widgets/base",
            "_view_module_version": "1.2.0",
            "_view_name": "LayoutView",
            "align_content": null,
            "align_items": null,
            "align_self": null,
            "border": null,
            "bottom": null,
            "display": null,
            "flex": null,
            "flex_flow": null,
            "grid_area": null,
            "grid_auto_columns": null,
            "grid_auto_flow": null,
            "grid_auto_rows": null,
            "grid_column": null,
            "grid_gap": null,
            "grid_row": null,
            "grid_template_areas": null,
            "grid_template_columns": null,
            "grid_template_rows": null,
            "height": null,
            "justify_content": null,
            "justify_items": null,
            "left": null,
            "margin": null,
            "max_height": null,
            "max_width": null,
            "min_height": null,
            "min_width": null,
            "object_fit": null,
            "object_position": null,
            "order": null,
            "overflow": null,
            "overflow_x": null,
            "overflow_y": null,
            "padding": null,
            "right": null,
            "top": null,
            "visibility": null,
            "width": null
          }
        },
        "76879f6f2aa54637a7a07faeea2bd684": {
          "model_module": "@jupyter-widgets/base",
          "model_module_version": "1.2.0",
          "model_name": "LayoutModel",
          "state": {
            "_model_module": "@jupyter-widgets/base",
            "_model_module_version": "1.2.0",
            "_model_name": "LayoutModel",
            "_view_count": null,
            "_view_module": "@jupyter-widgets/base",
            "_view_module_version": "1.2.0",
            "_view_name": "LayoutView",
            "align_content": null,
            "align_items": null,
            "align_self": null,
            "border": null,
            "bottom": null,
            "display": null,
            "flex": null,
            "flex_flow": null,
            "grid_area": null,
            "grid_auto_columns": null,
            "grid_auto_flow": null,
            "grid_auto_rows": null,
            "grid_column": null,
            "grid_gap": null,
            "grid_row": null,
            "grid_template_areas": null,
            "grid_template_columns": null,
            "grid_template_rows": null,
            "height": null,
            "justify_content": null,
            "justify_items": null,
            "left": null,
            "margin": null,
            "max_height": null,
            "max_width": null,
            "min_height": null,
            "min_width": null,
            "object_fit": null,
            "object_position": null,
            "order": null,
            "overflow": null,
            "overflow_x": null,
            "overflow_y": null,
            "padding": null,
            "right": null,
            "top": null,
            "visibility": null,
            "width": null
          }
        },
        "9b8caa3522fc4cbab31e13b5dfc7808d": {
          "model_module": "@jupyter-widgets/controls",
          "model_module_version": "1.5.0",
          "model_name": "HBoxModel",
          "state": {
            "_dom_classes": [],
            "_model_module": "@jupyter-widgets/controls",
            "_model_module_version": "1.5.0",
            "_model_name": "HBoxModel",
            "_view_count": null,
            "_view_module": "@jupyter-widgets/controls",
            "_view_module_version": "1.5.0",
            "_view_name": "HBoxView",
            "box_style": "",
            "children": [
              "IPY_MODEL_574140e4c4bc48c9a171541a02cd0211",
              "IPY_MODEL_35e03ce5090346c9ae602891470fc555",
              "IPY_MODEL_c942c208e72d46568b476bb0f2d75496"
            ],
            "layout": "IPY_MODEL_65881db1db8a4e9c930fab9172d45143"
          }
        },
        "c942c208e72d46568b476bb0f2d75496": {
          "model_module": "@jupyter-widgets/controls",
          "model_module_version": "1.5.0",
          "model_name": "HTMLModel",
          "state": {
            "_dom_classes": [],
            "_model_module": "@jupyter-widgets/controls",
            "_model_module_version": "1.5.0",
            "_model_name": "HTMLModel",
            "_view_count": null,
            "_view_module": "@jupyter-widgets/controls",
            "_view_module_version": "1.5.0",
            "_view_name": "HTMLView",
            "description": "",
            "description_tooltip": null,
            "layout": "IPY_MODEL_d6b7a2243e0c4beca714d99dceec23d6",
            "placeholder": "​",
            "style": "IPY_MODEL_5966ba6e6f114d8c9d8d1d6b1bd4f4c7",
            "value": " 780M/780M [02:19&lt;00:00, 6.24MB/s]"
          }
        },
        "d6b7a2243e0c4beca714d99dceec23d6": {
          "model_module": "@jupyter-widgets/base",
          "model_module_version": "1.2.0",
          "model_name": "LayoutModel",
          "state": {
            "_model_module": "@jupyter-widgets/base",
            "_model_module_version": "1.2.0",
            "_model_name": "LayoutModel",
            "_view_count": null,
            "_view_module": "@jupyter-widgets/base",
            "_view_module_version": "1.2.0",
            "_view_name": "LayoutView",
            "align_content": null,
            "align_items": null,
            "align_self": null,
            "border": null,
            "bottom": null,
            "display": null,
            "flex": null,
            "flex_flow": null,
            "grid_area": null,
            "grid_auto_columns": null,
            "grid_auto_flow": null,
            "grid_auto_rows": null,
            "grid_column": null,
            "grid_gap": null,
            "grid_row": null,
            "grid_template_areas": null,
            "grid_template_columns": null,
            "grid_template_rows": null,
            "height": null,
            "justify_content": null,
            "justify_items": null,
            "left": null,
            "margin": null,
            "max_height": null,
            "max_width": null,
            "min_height": null,
            "min_width": null,
            "object_fit": null,
            "object_position": null,
            "order": null,
            "overflow": null,
            "overflow_x": null,
            "overflow_y": null,
            "padding": null,
            "right": null,
            "top": null,
            "visibility": null,
            "width": null
          }
        }
      }
    }
  },
  "nbformat": 4,
  "nbformat_minor": 0
}
